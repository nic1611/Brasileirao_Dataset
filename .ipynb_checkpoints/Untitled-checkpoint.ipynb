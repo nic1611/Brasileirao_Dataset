{
 "cells": [
  {
   "cell_type": "code",
   "execution_count": 39,
   "metadata": {},
   "outputs": [],
   "source": [
    "import pandas as pd\n",
    "import numpy as np"
   ]
  },
  {
   "cell_type": "code",
   "execution_count": 41,
   "metadata": {},
   "outputs": [],
   "source": [
    "df = pd.read_csv('campeonato-brasileiro-full.csv')"
   ]
  },
  {
   "cell_type": "code",
   "execution_count": 42,
   "metadata": {},
   "outputs": [
    {
     "data": {
      "text/html": [
       "<div>\n",
       "<style scoped>\n",
       "    .dataframe tbody tr th:only-of-type {\n",
       "        vertical-align: middle;\n",
       "    }\n",
       "\n",
       "    .dataframe tbody tr th {\n",
       "        vertical-align: top;\n",
       "    }\n",
       "\n",
       "    .dataframe thead th {\n",
       "        text-align: right;\n",
       "    }\n",
       "</style>\n",
       "<table border=\"1\" class=\"dataframe\">\n",
       "  <thead>\n",
       "    <tr style=\"text-align: right;\">\n",
       "      <th></th>\n",
       "      <th>Horário</th>\n",
       "      <th>Dia</th>\n",
       "      <th>Data</th>\n",
       "      <th>Clube 1</th>\n",
       "      <th>Clube 2</th>\n",
       "      <th>Vencedor</th>\n",
       "      <th>Rodada</th>\n",
       "      <th>Arena</th>\n",
       "      <th>Clube 1 Gols</th>\n",
       "      <th>Clube 2 Gols</th>\n",
       "      <th>Clube 1 Estado</th>\n",
       "      <th>Clube 2 Estado</th>\n",
       "      <th>Estado Clube Vencedor</th>\n",
       "    </tr>\n",
       "  </thead>\n",
       "  <tbody>\n",
       "    <tr>\n",
       "      <th>0</th>\n",
       "      <td>16h00</td>\n",
       "      <td>Sábado</td>\n",
       "      <td>2000-07-29</td>\n",
       "      <td>Fluminense</td>\n",
       "      <td>Bahia</td>\n",
       "      <td>Fluminense</td>\n",
       "      <td>1ª Rodada</td>\n",
       "      <td>Maracanã</td>\n",
       "      <td>2</td>\n",
       "      <td>0</td>\n",
       "      <td>RJ</td>\n",
       "      <td>BA</td>\n",
       "      <td>RJ</td>\n",
       "    </tr>\n",
       "    <tr>\n",
       "      <th>1</th>\n",
       "      <td>16h00</td>\n",
       "      <td>Sábado</td>\n",
       "      <td>2000-07-29</td>\n",
       "      <td>Vasco</td>\n",
       "      <td>Sport</td>\n",
       "      <td>Sport</td>\n",
       "      <td>1ª Rodada</td>\n",
       "      <td>São Januário</td>\n",
       "      <td>0</td>\n",
       "      <td>2</td>\n",
       "      <td>RJ</td>\n",
       "      <td>PE</td>\n",
       "      <td>PE</td>\n",
       "    </tr>\n",
       "    <tr>\n",
       "      <th>2</th>\n",
       "      <td>16h00</td>\n",
       "      <td>Sábado</td>\n",
       "      <td>2000-07-29</td>\n",
       "      <td>Vitória</td>\n",
       "      <td>Palmeiras</td>\n",
       "      <td>Vitória</td>\n",
       "      <td>1ª Rodada</td>\n",
       "      <td>Barradão</td>\n",
       "      <td>4</td>\n",
       "      <td>1</td>\n",
       "      <td>ES</td>\n",
       "      <td>SP</td>\n",
       "      <td>ES</td>\n",
       "    </tr>\n",
       "    <tr>\n",
       "      <th>3</th>\n",
       "      <td>17h00</td>\n",
       "      <td>Domingo</td>\n",
       "      <td>2000-07-30</td>\n",
       "      <td>Botafogo-RJ</td>\n",
       "      <td>Atlético-MG</td>\n",
       "      <td>-</td>\n",
       "      <td>1ª Rodada</td>\n",
       "      <td>Caio Martins</td>\n",
       "      <td>0</td>\n",
       "      <td>0</td>\n",
       "      <td>RJ</td>\n",
       "      <td>MG</td>\n",
       "      <td>Empate</td>\n",
       "    </tr>\n",
       "    <tr>\n",
       "      <th>4</th>\n",
       "      <td>18h30</td>\n",
       "      <td>Domingo</td>\n",
       "      <td>2000-07-30</td>\n",
       "      <td>Juventude</td>\n",
       "      <td>Flamengo</td>\n",
       "      <td>-</td>\n",
       "      <td>1ª Rodada</td>\n",
       "      <td>Alfredo Jaconi</td>\n",
       "      <td>1</td>\n",
       "      <td>1</td>\n",
       "      <td>RS</td>\n",
       "      <td>RJ</td>\n",
       "      <td>Empate</td>\n",
       "    </tr>\n",
       "  </tbody>\n",
       "</table>\n",
       "</div>"
      ],
      "text/plain": [
       "  Horário      Dia        Data      Clube 1      Clube 2    Vencedor  \\\n",
       "0   16h00   Sábado  2000-07-29   Fluminense        Bahia  Fluminense   \n",
       "1   16h00   Sábado  2000-07-29        Vasco        Sport       Sport   \n",
       "2   16h00   Sábado  2000-07-29      Vitória    Palmeiras     Vitória   \n",
       "3   17h00  Domingo  2000-07-30  Botafogo-RJ  Atlético-MG           -   \n",
       "4   18h30  Domingo  2000-07-30    Juventude     Flamengo           -   \n",
       "\n",
       "      Rodada           Arena  Clube 1 Gols  Clube 2 Gols Clube 1 Estado  \\\n",
       "0  1ª Rodada        Maracanã             2             0             RJ   \n",
       "1  1ª Rodada    São Januário             0             2             RJ   \n",
       "2  1ª Rodada        Barradão             4             1             ES   \n",
       "3  1ª Rodada    Caio Martins             0             0             RJ   \n",
       "4  1ª Rodada  Alfredo Jaconi             1             1             RS   \n",
       "\n",
       "  Clube 2 Estado Estado Clube Vencedor  \n",
       "0             BA                    RJ  \n",
       "1             PE                    PE  \n",
       "2             SP                    ES  \n",
       "3             MG                Empate  \n",
       "4             RJ                Empate  "
      ]
     },
     "execution_count": 42,
     "metadata": {},
     "output_type": "execute_result"
    }
   ],
   "source": [
    "df.head()"
   ]
  },
  {
   "cell_type": "code",
   "execution_count": 43,
   "metadata": {},
   "outputs": [
    {
     "data": {
      "text/plain": [
       "Horário                         17h00\n",
       "Dia                           Domingo\n",
       "Data                       2000-11-26\n",
       "Clube 1                      CRUZEIRO\n",
       "Clube 2                      MALUTROM\n",
       "Vencedor                            -\n",
       "Rodada                   SEGUNDA FASE\n",
       "Arena                        Mineirão\n",
       "Clube 1 Gols                        1\n",
       "Clube 2 Gols                        1\n",
       "Clube 1 Estado                     MG\n",
       "Clube 2 Estado                     PR\n",
       "Estado Clube Vencedor          Empate\n",
       "Name: 310, dtype: object"
      ]
     },
     "execution_count": 43,
     "metadata": {},
     "output_type": "execute_result"
    }
   ],
   "source": [
    "df.loc[310]"
   ]
  },
  {
   "cell_type": "code",
   "execution_count": 44,
   "metadata": {},
   "outputs": [
    {
     "data": {
      "text/plain": [
       "Clube 1    CRUZEIRO\n",
       "Clube 2    MALUTROM\n",
       "Name: 310, dtype: object"
      ]
     },
     "execution_count": 44,
     "metadata": {},
     "output_type": "execute_result"
    }
   ],
   "source": [
    "df.loc[310][['Clube 1','Clube 2']]"
   ]
  },
  {
   "cell_type": "code",
   "execution_count": 45,
   "metadata": {},
   "outputs": [
    {
     "data": {
      "text/plain": [
       "'2000-11-26'"
      ]
     },
     "execution_count": 45,
     "metadata": {},
     "output_type": "execute_result"
    }
   ],
   "source": [
    "df.loc[310]['Data']"
   ]
  },
  {
   "cell_type": "code",
   "execution_count": 46,
   "metadata": {},
   "outputs": [],
   "source": [
    "df['Total de gols'] = df['Clube 1 Gols'] + df['Clube 2 Gols']"
   ]
  },
  {
   "cell_type": "code",
   "execution_count": 49,
   "metadata": {},
   "outputs": [
    {
     "data": {
      "text/plain": [
       "21033"
      ]
     },
     "execution_count": 49,
     "metadata": {},
     "output_type": "execute_result"
    }
   ],
   "source": [
    "df['Total de gols'].sum()"
   ]
  },
  {
   "cell_type": "code",
   "execution_count": 52,
   "metadata": {},
   "outputs": [
    {
     "data": {
      "text/plain": [
       "16h00    1804\n",
       "20h30     683\n",
       "18h30     643\n",
       "18h10     506\n",
       "16:00     440\n",
       "19h30     351\n",
       "17h00     351\n",
       "18h00     306\n",
       "21h00     267\n",
       "19:00     243\n",
       "21:00     207\n",
       "17:00     174\n",
       "19:30     159\n",
       "21h50     144\n",
       "20:00     142\n",
       "18:30     132\n",
       "22h00     130\n",
       "21h45     119\n",
       "11:00      96\n",
       "21:45      76\n",
       "18h20      59\n",
       "18:00      52\n",
       "21h40      49\n",
       "20:30      45\n",
       "16h        39\n",
       "15h00      37\n",
       "11h00      34\n",
       "19h00      29\n",
       "21:30      28\n",
       "21:50      27\n",
       "22:00      22\n",
       "16h20      21\n",
       "19:15      21\n",
       "14h30      17\n",
       "15h45      17\n",
       "18h        14\n",
       "17h        13\n",
       "19h10      12\n",
       "16h10      12\n",
       "22:30      10\n",
       "16:30       8\n",
       "21h30       7\n",
       "15h30       6\n",
       "16:20       5\n",
       "20h00       4\n",
       "22h         3\n",
       "20:15       3\n",
       "16:15       3\n",
       "22:50       3\n",
       "17:30       2\n",
       "16h30       2\n",
       "15:00       1\n",
       "21h10       1\n",
       "21:46       1\n",
       "22h30       1\n",
       "09h00       1\n",
       "Name: Horário, dtype: int64"
      ]
     },
     "execution_count": 52,
     "metadata": {},
     "output_type": "execute_result"
    }
   ],
   "source": [
    "df['Horário'].value_counts()"
   ]
  },
  {
   "cell_type": "code",
   "execution_count": 53,
   "metadata": {},
   "outputs": [
    {
     "data": {
      "text/plain": [
       "Domingo          3673\n",
       "Sábado           1833\n",
       "Quarta-feira     1559\n",
       "Quinta-feira      657\n",
       "Segunda-feira     108\n",
       "Terça-feira        85\n",
       "Sexta-feira        24\n",
       "Name: Dia, dtype: int64"
      ]
     },
     "execution_count": 53,
     "metadata": {},
     "output_type": "execute_result"
    }
   ],
   "source": [
    "df['Dia'].value_counts()"
   ]
  },
  {
   "cell_type": "code",
   "execution_count": 55,
   "metadata": {},
   "outputs": [],
   "source": [
    "df['Clube 1'] = df['Clube 1'].str.upper()"
   ]
  },
  {
   "cell_type": "code",
   "execution_count": 61,
   "metadata": {},
   "outputs": [
    {
     "data": {
      "text/plain": [
       "FLUMINENSE    101\n",
       "Name: Clube 1, dtype: int64"
      ]
     },
     "execution_count": 61,
     "metadata": {},
     "output_type": "execute_result"
    }
   ],
   "source": [
    "df[df['Vencedor'] == '-']['Clube 1'].value_counts().head(1)"
   ]
  },
  {
   "cell_type": "code",
   "execution_count": 62,
   "metadata": {},
   "outputs": [],
   "source": [
    "df['Clube 2'] = df['Clube 2'].str.upper()"
   ]
  },
  {
   "cell_type": "code",
   "execution_count": 63,
   "metadata": {},
   "outputs": [
    {
     "data": {
      "text/plain": [
       "CORINTHIANS    106\n",
       "Name: Clube 2, dtype: int64"
      ]
     },
     "execution_count": 63,
     "metadata": {},
     "output_type": "execute_result"
    }
   ],
   "source": [
    "df[df['Vencedor'] == '-']['Clube 2'].value_counts().head(1)"
   ]
  },
  {
   "cell_type": "code",
   "execution_count": 64,
   "metadata": {},
   "outputs": [],
   "source": [
    "por_clube1 = df.groupby('Clube 1')"
   ]
  },
  {
   "cell_type": "code",
   "execution_count": 71,
   "metadata": {},
   "outputs": [
    {
     "data": {
      "text/plain": [
       "Clube 1\n",
       "SANTOS    701\n",
       "Name: Clube 1 Gols, dtype: int64"
      ]
     },
     "execution_count": 71,
     "metadata": {},
     "output_type": "execute_result"
    }
   ],
   "source": [
    "por_clube1['Clube 1 Gols'].sum().sort_values(ascending = False).head(1)"
   ]
  },
  {
   "cell_type": "code",
   "execution_count": 72,
   "metadata": {},
   "outputs": [],
   "source": [
    "df['Ano'] = df['Data'].apply(lambda data : data.split('-')[0])"
   ]
  },
  {
   "cell_type": "code",
   "execution_count": 73,
   "metadata": {},
   "outputs": [
    {
     "data": {
      "text/plain": [
       "0       2000\n",
       "1       2000\n",
       "2       2000\n",
       "3       2000\n",
       "4       2000\n",
       "        ... \n",
       "7934    2019\n",
       "7935    2019\n",
       "7936    2019\n",
       "7937    2019\n",
       "7938    2019\n",
       "Name: Ano, Length: 7939, dtype: object"
      ]
     },
     "execution_count": 73,
     "metadata": {},
     "output_type": "execute_result"
    }
   ],
   "source": [
    "df['Ano']"
   ]
  },
  {
   "cell_type": "code",
   "execution_count": 74,
   "metadata": {},
   "outputs": [
    {
     "data": {
      "text/plain": [
       "AVAÍ             9\n",
       "CRUZEIRO         8\n",
       "BAHIA            8\n",
       "CORINTHIANS      7\n",
       "FLUMINENSE       7\n",
       "CEARÁ            6\n",
       "INTERNACIONAL    6\n",
       "SÃO PAULO        6\n",
       "VASCO            6\n",
       "CSA              5\n",
       "CHAPECOENSE      5\n",
       "SANTOS           4\n",
       "PALMEIRAS        4\n",
       "GOIÁS            3\n",
       "ATHLÉTICO-PR     3\n",
       "GRÊMIO           3\n",
       "ATLÉTICO-MG      2\n",
       "FLAMENGO         2\n",
       "FORTALEZA        2\n",
       "BOTAFOGO-RJ      2\n",
       "Name: Clube 1, dtype: int64"
      ]
     },
     "execution_count": 74,
     "metadata": {},
     "output_type": "execute_result"
    }
   ],
   "source": [
    "df[(df['Vencedor'] == '-')&(df['Ano'] == '2019')]['Clube 1'].value_counts()"
   ]
  }
 ],
 "metadata": {
  "kernelspec": {
   "display_name": "Python 3",
   "language": "python",
   "name": "python3"
  },
  "language_info": {
   "codemirror_mode": {
    "name": "ipython",
    "version": 3
   },
   "file_extension": ".py",
   "mimetype": "text/x-python",
   "name": "python",
   "nbconvert_exporter": "python",
   "pygments_lexer": "ipython3",
   "version": "3.9.0"
  }
 },
 "nbformat": 4,
 "nbformat_minor": 4
}
